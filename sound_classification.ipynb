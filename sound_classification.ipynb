{
 "cells": [
  {
   "cell_type": "code",
   "execution_count": 1,
   "metadata": {},
   "outputs": [
    {
     "name": "stdout",
     "output_type": "stream",
     "text": [
      "\u001b[33mDEPRECATION: Configuring installation scheme with distutils config files is deprecated and will no longer work in the near future. If you are using a Homebrew or Linuxbrew Python, please see discussion at https://github.com/Homebrew/homebrew-core/issues/76621\u001b[0m\u001b[33m\n",
      "\u001b[0mCollecting paddlespeech==1.2.0\n",
      "  Downloading paddlespeech-1.2.0-py3-none-any.whl.metadata (44 kB)\n",
      "\u001b[2K     \u001b[90m━━━━━━━━━━━━━━━━━━━━━━━━━━━━━━━━━━━━━━━\u001b[0m \u001b[32m45.0/45.0 kB\u001b[0m \u001b[31m900.5 kB/s\u001b[0m eta \u001b[36m0:00:00\u001b[0m \u001b[36m0:00:01\u001b[0m\n",
      "\u001b[?25hRequirement already satisfied: editdistance in /opt/homebrew/lib/python3.9/site-packages (from paddlespeech==1.2.0) (0.8.1)\n",
      "Requirement already satisfied: g2p-en in /opt/homebrew/lib/python3.9/site-packages (from paddlespeech==1.2.0) (2.1.0)\n",
      "Collecting g2pM (from paddlespeech==1.2.0)\n",
      "  Downloading g2pM-0.1.2.5-py3-none-any.whl.metadata (4.0 kB)\n",
      "Requirement already satisfied: h5py in /opt/homebrew/lib/python3.9/site-packages (from paddlespeech==1.2.0) (3.11.0)\n",
      "Requirement already satisfied: inflect in /opt/homebrew/lib/python3.9/site-packages (from paddlespeech==1.2.0) (7.0.0)\n",
      "Requirement already satisfied: jieba in /opt/homebrew/lib/python3.9/site-packages (from paddlespeech==1.2.0) (0.42.1)\n",
      "Collecting jsonlines (from paddlespeech==1.2.0)\n",
      "  Downloading jsonlines-4.0.0-py3-none-any.whl.metadata (1.6 kB)\n",
      "Requirement already satisfied: kaldiio in /opt/homebrew/lib/python3.9/site-packages (from paddlespeech==1.2.0) (2.18.0)\n",
      "Collecting librosa==0.8.1 (from paddlespeech==1.2.0)\n",
      "  Downloading librosa-0.8.1-py3-none-any.whl.metadata (6.8 kB)\n",
      "Collecting loguru (from paddlespeech==1.2.0)\n",
      "  Downloading loguru-0.7.2-py3-none-any.whl.metadata (23 kB)\n",
      "Requirement already satisfied: matplotlib in /opt/homebrew/lib/python3.9/site-packages (from paddlespeech==1.2.0) (3.8.4)\n",
      "Collecting nara-wpe (from paddlespeech==1.2.0)\n",
      "  Downloading nara_wpe-0.0.9-py3-none-any.whl.metadata (5.8 kB)\n",
      "INFO: pip is looking at multiple versions of paddlespeech to determine which version is compatible with other requirements. This could take a while.\n",
      "\u001b[31mERROR: Could not find a version that satisfies the requirement onnxruntime==1.10.0 (from paddlespeech) (from versions: 1.12.0, 1.12.1, 1.13.1, 1.14.1, 1.15.0, 1.15.1, 1.16.0, 1.16.1, 1.16.2, 1.16.3, 1.17.0, 1.17.1, 1.17.3, 1.18.0)\u001b[0m\u001b[31m\n",
      "\u001b[0m\u001b[31mERROR: No matching distribution found for onnxruntime==1.10.0\u001b[0m\u001b[31m\n",
      "\u001b[0m\u001b[33mDEPRECATION: Configuring installation scheme with distutils config files is deprecated and will no longer work in the near future. If you are using a Homebrew or Linuxbrew Python, please see discussion at https://github.com/Homebrew/homebrew-core/issues/76621\u001b[0m\u001b[33m\n",
      "\u001b[0mCollecting paddleaudio==1.0.1\n",
      "  Downloading paddleaudio-1.0.1-py3-none-any.whl.metadata (852 bytes)\n",
      "Requirement already satisfied: numpy>=1.15.0 in /opt/homebrew/lib/python3.9/site-packages (from paddleaudio==1.0.1) (1.23.5)\n",
      "Requirement already satisfied: scipy>=1.0.0 in /opt/homebrew/lib/python3.9/site-packages (from paddleaudio==1.0.1) (1.13.0)\n",
      "Requirement already satisfied: resampy>=0.2.2 in /opt/homebrew/lib/python3.9/site-packages (from paddleaudio==1.0.1) (0.4.3)\n",
      "Requirement already satisfied: soundfile>=0.9.0 in /opt/homebrew/lib/python3.9/site-packages (from paddleaudio==1.0.1) (0.12.1)\n",
      "Requirement already satisfied: colorlog in /opt/homebrew/lib/python3.9/site-packages (from paddleaudio==1.0.1) (6.8.2)\n",
      "Collecting pathos==0.2.8 (from paddleaudio==1.0.1)\n",
      "  Downloading pathos-0.2.8-py2.py3-none-any.whl.metadata (12 kB)\n",
      "Requirement already satisfied: dill>=0.3.4 in /opt/homebrew/lib/python3.9/site-packages (from pathos==0.2.8->paddleaudio==1.0.1) (0.3.8)\n",
      "Requirement already satisfied: multiprocess>=0.70.12 in /opt/homebrew/lib/python3.9/site-packages (from pathos==0.2.8->paddleaudio==1.0.1) (0.70.16)\n",
      "Collecting pox>=0.3.0 (from pathos==0.2.8->paddleaudio==1.0.1)\n",
      "  Downloading pox-0.3.4-py3-none-any.whl.metadata (8.0 kB)\n",
      "Collecting ppft>=1.6.6.4 (from pathos==0.2.8->paddleaudio==1.0.1)\n",
      "  Downloading ppft-1.7.6.8-py3-none-any.whl.metadata (12 kB)\n",
      "Requirement already satisfied: numba>=0.53 in /opt/homebrew/lib/python3.9/site-packages (from resampy>=0.2.2->paddleaudio==1.0.1) (0.59.1)\n",
      "Requirement already satisfied: cffi>=1.0 in /opt/homebrew/lib/python3.9/site-packages (from soundfile>=0.9.0->paddleaudio==1.0.1) (1.16.0)\n",
      "Requirement already satisfied: pycparser in /opt/homebrew/lib/python3.9/site-packages (from cffi>=1.0->soundfile>=0.9.0->paddleaudio==1.0.1) (2.22)\n",
      "Requirement already satisfied: llvmlite<0.43,>=0.42.0dev0 in /opt/homebrew/lib/python3.9/site-packages (from numba>=0.53->resampy>=0.2.2->paddleaudio==1.0.1) (0.42.0)\n",
      "Downloading paddleaudio-1.0.1-py3-none-any.whl (59 kB)\n",
      "\u001b[2K   \u001b[90m━━━━━━━━━━━━━━━━━━━━━━━━━━━━━━━━━━━━━━━━\u001b[0m \u001b[32m59.7/59.7 kB\u001b[0m \u001b[31m1.0 MB/s\u001b[0m eta \u001b[36m0:00:00\u001b[0meta \u001b[36m0:00:01\u001b[0m\n",
      "\u001b[?25hDownloading pathos-0.2.8-py2.py3-none-any.whl (81 kB)\n",
      "\u001b[2K   \u001b[90m━━━━━━━━━━━━━━━━━━━━━━━━━━━━━━━━━━━━━━━━\u001b[0m \u001b[32m81.7/81.7 kB\u001b[0m \u001b[31m1.1 MB/s\u001b[0m eta \u001b[36m0:00:00\u001b[0meta \u001b[36m0:00:01\u001b[0m\n",
      "\u001b[?25hDownloading pox-0.3.4-py3-none-any.whl (29 kB)\n",
      "Downloading ppft-1.7.6.8-py3-none-any.whl (56 kB)\n",
      "\u001b[2K   \u001b[90m━━━━━━━━━━━━━━━━━━━━━━━━━━━━━━━━━━━━━━━━\u001b[0m \u001b[32m56.8/56.8 kB\u001b[0m \u001b[31m1.9 MB/s\u001b[0m eta \u001b[36m0:00:00\u001b[0ma \u001b[36m0:00:01\u001b[0m\n",
      "\u001b[?25hInstalling collected packages: ppft, pox, pathos, paddleaudio\n",
      "\u001b[33m  DEPRECATION: Configuring installation scheme with distutils config files is deprecated and will no longer work in the near future. If you are using a Homebrew or Linuxbrew Python, please see discussion at https://github.com/Homebrew/homebrew-core/issues/76621\u001b[0m\u001b[33m\n",
      "\u001b[0m\u001b[33m  DEPRECATION: Configuring installation scheme with distutils config files is deprecated and will no longer work in the near future. If you are using a Homebrew or Linuxbrew Python, please see discussion at https://github.com/Homebrew/homebrew-core/issues/76621\u001b[0m\u001b[33m\n",
      "\u001b[0m\u001b[33m  DEPRECATION: Configuring installation scheme with distutils config files is deprecated and will no longer work in the near future. If you are using a Homebrew or Linuxbrew Python, please see discussion at https://github.com/Homebrew/homebrew-core/issues/76621\u001b[0m\u001b[33m\n",
      "\u001b[0m\u001b[33m  DEPRECATION: Configuring installation scheme with distutils config files is deprecated and will no longer work in the near future. If you are using a Homebrew or Linuxbrew Python, please see discussion at https://github.com/Homebrew/homebrew-core/issues/76621\u001b[0m\u001b[33m\n",
      "\u001b[0m\u001b[33mDEPRECATION: Configuring installation scheme with distutils config files is deprecated and will no longer work in the near future. If you are using a Homebrew or Linuxbrew Python, please see discussion at https://github.com/Homebrew/homebrew-core/issues/76621\u001b[0m\u001b[33m\n",
      "\u001b[0mSuccessfully installed paddleaudio-1.0.1 pathos-0.2.8 pox-0.3.4 ppft-1.7.6.8\n"
     ]
    }
   ],
   "source": [
    "!pip3 install paddlespeech==1.2.0\n",
    "!pip3 install paddleaudio==1.0.1"
   ]
  }
 ],
 "metadata": {
  "kernelspec": {
   "display_name": "Python 3",
   "language": "python",
   "name": "python3"
  },
  "language_info": {
   "codemirror_mode": {
    "name": "ipython",
    "version": 3
   },
   "file_extension": ".py",
   "mimetype": "text/x-python",
   "name": "python",
   "nbconvert_exporter": "python",
   "pygments_lexer": "ipython3",
   "version": "3.10.7"
  }
 },
 "nbformat": 4,
 "nbformat_minor": 2
}
